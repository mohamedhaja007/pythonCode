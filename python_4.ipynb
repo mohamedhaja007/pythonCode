{
  "nbformat": 4,
  "nbformat_minor": 0,
  "metadata": {
    "colab": {
      "name": "python 4.ipynb",
      "provenance": [],
      "authorship_tag": "ABX9TyPwUgtC7TzlZF8dv9kSqWfz",
      "include_colab_link": true
    },
    "kernelspec": {
      "name": "python3",
      "display_name": "Python 3"
    },
    "language_info": {
      "name": "python"
    }
  },
  "cells": [
    {
      "cell_type": "markdown",
      "metadata": {
        "id": "view-in-github",
        "colab_type": "text"
      },
      "source": [
        "<a href=\"https://colab.research.google.com/github/mohamedhaja007/pythonCode/blob/main/python_4.ipynb\" target=\"_parent\"><img src=\"https://colab.research.google.com/assets/colab-badge.svg\" alt=\"Open In Colab\"/></a>"
      ]
    },
    {
      "cell_type": "code",
      "source": [
        "#boolean expression\n",
        "a=True\n",
        "b=False\n",
        "print('a= ',a,'b= ',b)\n",
        "a=False;\n",
        "print('a= ',a,'b= ',b)"
      ],
      "metadata": {
        "colab": {
          "base_uri": "https://localhost:8080/"
        },
        "id": "bSiHjA5qwtxp",
        "outputId": "a29947d4-8de6-48eb-d7b6-22084a280898"
      },
      "execution_count": null,
      "outputs": [
        {
          "output_type": "stream",
          "name": "stdout",
          "text": [
            "a=  True b=  False\n",
            "a=  False b=  False\n"
          ]
        }
      ]
    },
    {
      "cell_type": "code",
      "source": [
        "# Get two integers from the user\n",
        "dividend, divisor = eval(input('Please enter two to divide: '))\n",
        "# If possible, divide them and print the result\n",
        "if divisor != 0:\n",
        "  print(dividend,'/',divisor,' = ', dividend/divisor)\n",
        "else:\n",
        "  print('Divsion by is not allowed.')"
      ],
      "metadata": {
        "colab": {
          "base_uri": "https://localhost:8080/"
        },
        "id": "EHF0OQHcw50Y",
        "outputId": "5eea7692-97a0-43e7-decc-4820908a460f"
      },
      "execution_count": null,
      "outputs": [
        {
          "output_type": "stream",
          "name": "stdout",
          "text": [
            "Please enter two to divide: 22,2\n",
            "22 / 2  =  11.0\n"
          ]
        }
      ]
    },
    {
      "cell_type": "code",
      "source": [
        "#nested loop\n",
        "print(\"     1  2  3  4  5  6  7  8  9  10\")\n",
        "print(\"    <---------------------------->\")\n",
        "for row in range(1,11):\n",
        "  if row<10:\n",
        "    print(\" \",end=\" \")\n",
        "    for column in range(1,11):\n",
        "      product=row*column;\n",
        "      if product<100:\n",
        "        print(end=\" \")\n",
        "      if product<10:\n",
        "        print(end=\" \")\n",
        "      print(product,end=\" \")\n",
        "    print()"
      ],
      "metadata": {
        "colab": {
          "base_uri": "https://localhost:8080/"
        },
        "id": "eWYLmxlcxKkw",
        "outputId": "bf6e52b4-06eb-49a9-c386-de54a49a5cb3"
      },
      "execution_count": null,
      "outputs": [
        {
          "output_type": "stream",
          "name": "stdout",
          "text": [
            "     1  2  3  4  5  6  7  8  9  10\n",
            "    <---------------------------->\n",
            "    1   2   3   4   5   6   7   8   9  10 \n",
            "    2   4   6   8  10  12  14  16  18  20 \n",
            "    3   6   9  12  15  18  21  24  27  30 \n",
            "    4   8  12  16  20  24  28  32  36  40 \n",
            "    5  10  15  20  25  30  35  40  45  50 \n",
            "    6  12  18  24  30  36  42  48  54  60 \n",
            "    7  14  21  28  35  42  49  56  63  70 \n",
            "    8  16  24  32  40  48  56  64  72  80 \n",
            "    9  18  27  36  45  54  63  72  81  90 \n"
          ]
        }
      ]
    },
    {
      "cell_type": "code",
      "source": [
        "#while \n",
        "entry=0\n",
        "sum=0\n",
        "print(\"Enter numbers to sum, negative number ends list: \")\n",
        "while entry >=0:\n",
        "  entry =eval(input())\n",
        "  if entry >=0:\n",
        "    sum+=entry\n",
        "print(\"sum=\",sum)"
      ],
      "metadata": {
        "colab": {
          "base_uri": "https://localhost:8080/"
        },
        "id": "CsCb6c8-xQgg",
        "outputId": "bb38360c-e96e-4049-ace0-52ad42eba653"
      },
      "execution_count": null,
      "outputs": [
        {
          "output_type": "stream",
          "name": "stdout",
          "text": [
            "Enter numbers to sum, negative number ends list: \n",
            "6\n",
            "7\n",
            "5\n",
            "-2\n",
            "sum= 18\n"
          ]
        }
      ]
    },
    {
      "cell_type": "code",
      "source": [
        "#elif statement\n",
        "value=eval(input(\"Please enter an integer in the range 0....5: \"))\n",
        "if value<0:\n",
        "  print(\"To0o small\")\n",
        "else:\n",
        "  if value ==0:\n",
        "    print(\"zero\")\n",
        "  else:\n",
        "    if value==1:\n",
        "      print(\"one\")\n",
        "    else:\n",
        "      if value ==2:\n",
        "        print(\"two\")\n",
        "      else:\n",
        "        if value==3:\n",
        "          print(\"three\")\n",
        "        else:\n",
        "          if value==4:\n",
        "            print(\"four\")\n",
        "          else:\n",
        "            if value==5:\n",
        "              print(\"five\")\n",
        "            else:\n",
        "              print(\"too large\")\n",
        "  print(\"done\")"
      ],
      "metadata": {
        "id": "JgCPUQL8xc1Z",
        "colab": {
          "base_uri": "https://localhost:8080/"
        },
        "outputId": "dec8f44b-cf5c-4a49-f425-2d519ae36077"
      },
      "execution_count": null,
      "outputs": [
        {
          "output_type": "stream",
          "name": "stdout",
          "text": [
            "Please enter an integer in the range 0....5: 4\n",
            "four\n",
            "done\n"
          ]
        }
      ]
    },
    {
      "cell_type": "code",
      "source": [
        "#Declare a variable\n",
        "Number=25\n",
        "Name=\"sam\"\n",
        "B=3.5\n",
        "print(Number)\n",
        "print(Name)\n",
        "print(B)"
      ],
      "metadata": {
        "colab": {
          "base_uri": "https://localhost:8080/"
        },
        "id": "L_htMPeUyORe",
        "outputId": "a15f6ade-179e-433f-92b5-de6dcc9db7da"
      },
      "execution_count": null,
      "outputs": [
        {
          "output_type": "stream",
          "name": "stdout",
          "text": [
            "25\n",
            "sam\n",
            "3.5\n"
          ]
        }
      ]
    },
    {
      "cell_type": "code",
      "source": [
        "#Redeclare a variable\n",
        "Name=\"Python\"\n",
        "print(Name)"
      ],
      "metadata": {
        "colab": {
          "base_uri": "https://localhost:8080/"
        },
        "id": "gvxXUBD2yVFu",
        "outputId": "2ac0354e-2ef9-4c12-fd2c-9027f684de3e"
      },
      "execution_count": null,
      "outputs": [
        {
          "output_type": "stream",
          "name": "stdout",
          "text": [
            "Python\n"
          ]
        }
      ]
    },
    {
      "cell_type": "code",
      "source": [
        "#Multiple assignment\n",
        "x=y=z=\"SoftwareTestingHelp\"\n",
        "print(x)\n",
        "print(y)\n",
        "print(z)\n",
        "a,b,c=5,3.2,\"Hello\"\n",
        "print(a)\n",
        "print(b)\n",
        "print(c)"
      ],
      "metadata": {
        "colab": {
          "base_uri": "https://localhost:8080/"
        },
        "id": "VZZ65uXAyd44",
        "outputId": "041d43ee-9fdd-46a0-e3bb-9fe6eee087fc"
      },
      "execution_count": null,
      "outputs": [
        {
          "output_type": "stream",
          "name": "stdout",
          "text": [
            "SoftwareTestingHelp\n",
            "SoftwareTestingHelp\n",
            "SoftwareTestingHelp\n",
            "5\n",
            "3.2\n",
            "Hello\n"
          ]
        }
      ]
    },
    {
      "cell_type": "code",
      "source": [
        "#Numbers\n",
        "a=5\n",
        "print(a,\"is of type\",type(a))"
      ],
      "metadata": {
        "colab": {
          "base_uri": "https://localhost:8080/"
        },
        "id": "Jimx1_izyipO",
        "outputId": "fc965d4f-fb31-4232-aab5-ab0dfeab34e8"
      },
      "execution_count": null,
      "outputs": [
        {
          "output_type": "stream",
          "name": "stdout",
          "text": [
            "5 is of type <class 'int'>\n"
          ]
        }
      ]
    },
    {
      "cell_type": "code",
      "source": [
        "#String\n",
        "String1=\"Welcome\"\n",
        "String2=\"To python\"\n",
        "print(String1+String2)\n",
        "#slicing\n",
        "print(String1[2:5])"
      ],
      "metadata": {
        "colab": {
          "base_uri": "https://localhost:8080/"
        },
        "id": "C7QjK2_Bytx4",
        "outputId": "c5f2a152-7875-44ee-a793-bb7b40060315"
      },
      "execution_count": null,
      "outputs": [
        {
          "output_type": "stream",
          "name": "stdout",
          "text": [
            "WelcomeTo python\n",
            "lco\n"
          ]
        }
      ]
    },
    {
      "cell_type": "code",
      "source": [
        "#List\n",
        "List=[2,4,5,5,\"Hi\"]\n",
        "print(\"List[2]\",List[2])"
      ],
      "metadata": {
        "colab": {
          "base_uri": "https://localhost:8080/"
        },
        "id": "eYJgYjQjyxTx",
        "outputId": "cb5a1109-d207-4cbb-cef3-615a12235cfb"
      },
      "execution_count": null,
      "outputs": [
        {
          "output_type": "stream",
          "name": "stdout",
          "text": [
            "List[2] 5\n"
          ]
        }
      ]
    },
    {
      "cell_type": "code",
      "source": [
        "#Tuple\n",
        "Tuple=(50,15,25.6,\"Python\")\n",
        "print(\"Tuple[1]=\",Tuple[1])"
      ],
      "metadata": {
        "colab": {
          "base_uri": "https://localhost:8080/"
        },
        "id": "P6kH0FiTy26_",
        "outputId": "857c1739-69cc-4477-f809-91cfc94fac04"
      },
      "execution_count": null,
      "outputs": [
        {
          "output_type": "stream",
          "name": "stdout",
          "text": [
            "Tuple[1]= 15\n"
          ]
        }
      ]
    },
    {
      "cell_type": "code",
      "source": [
        "#Set\n",
        "Set={5,1,2.6,\"python\"}\n",
        "print(Set)"
      ],
      "metadata": {
        "colab": {
          "base_uri": "https://localhost:8080/"
        },
        "id": "J9a5irWxy4ux",
        "outputId": "4e49f12b-ce76-4b5e-da71-7e49bb6f0a1c"
      },
      "execution_count": null,
      "outputs": [
        {
          "output_type": "stream",
          "name": "stdout",
          "text": [
            "{1, 2.6, 5, 'python'}\n"
          ]
        }
      ]
    },
    {
      "cell_type": "code",
      "source": [
        "#Dictionary\n",
        "Dict={1:'Hi',2:7.5,3:'Class'}\n",
        "print(Dict)"
      ],
      "metadata": {
        "colab": {
          "base_uri": "https://localhost:8080/"
        },
        "id": "xYZ-3JJiy72A",
        "outputId": "61457388-885b-45fe-fb3c-9ddaa8d4c0c4"
      },
      "execution_count": null,
      "outputs": [
        {
          "output_type": "stream",
          "name": "stdout",
          "text": [
            "{1: 'Hi', 2: 7.5, 3: 'Class'}\n"
          ]
        }
      ]
    },
    {
      "cell_type": "code",
      "source": [
        "#Arithmetic operators\n",
        "x=15\n",
        "y=10\n",
        "print('x+y=',x+y)\n",
        "print('x-y=',x-y)\n",
        "print('x*y=',x*y)\n",
        "print('x/y=',x/y)\n",
        "print('x//y=',x//y)"
      ],
      "metadata": {
        "colab": {
          "base_uri": "https://localhost:8080/"
        },
        "id": "CR215khTy-t-",
        "outputId": "4893c8cb-1ed4-43df-c6a3-c0c4cc02c04a"
      },
      "execution_count": null,
      "outputs": [
        {
          "output_type": "stream",
          "name": "stdout",
          "text": [
            "x+y= 25\n",
            "x-y= 5\n",
            "x*y= 150\n",
            "x/y= 1.5\n",
            "x//y= 1\n"
          ]
        }
      ]
    },
    {
      "cell_type": "code",
      "source": [
        "#comparison Operators\n",
        "x=8\n",
        "y=15\n",
        "print('x>y is',x>y)\n",
        "print('x<y is',x<y)\n",
        "print('x==y is',x==y)\n",
        "print('x!=y is',x!=y)\n",
        "print('x>=y is',x>=y)\n",
        "print('x<=y is',x<=y)"
      ],
      "metadata": {
        "colab": {
          "base_uri": "https://localhost:8080/"
        },
        "id": "6vCRTspczJcZ",
        "outputId": "3d88344e-10db-419c-c3f7-7be1c8a1b6d8"
      },
      "execution_count": null,
      "outputs": [
        {
          "output_type": "stream",
          "name": "stdout",
          "text": [
            "x>y is False\n",
            "x<y is True\n",
            "x==y is False\n",
            "x!=y is True\n",
            "x>=y is False\n",
            "x<=y is True\n"
          ]
        }
      ]
    },
    {
      "cell_type": "code",
      "source": [
        "#logical operators\n",
        "a=True\n",
        "b=False\n",
        "print('a and b is',a and b)\n",
        "print('a or b is',a and b)\n",
        "print('a not b is',a and b)"
      ],
      "metadata": {
        "colab": {
          "base_uri": "https://localhost:8080/"
        },
        "id": "jximWsUFzWGP",
        "outputId": "b6940194-7acc-43a2-c176-d21505583e97"
      },
      "execution_count": null,
      "outputs": [
        {
          "output_type": "stream",
          "name": "stdout",
          "text": [
            "a and b is False\n",
            "a or b is False\n",
            "a not b is False\n"
          ]
        }
      ]
    },
    {
      "cell_type": "code",
      "source": [
        "#identity operator\n",
        "a1=3\n",
        "b1=3\n",
        "a2=\"Python\"\n",
        "b2=\"Python\"\n",
        "a3=[4,5,6]\n",
        "b3=[4,5,6]\n",
        "print(a1 is not b1)\n",
        "print(a2 is b2)\n",
        "print(a3 is b3)"
      ],
      "metadata": {
        "colab": {
          "base_uri": "https://localhost:8080/"
        },
        "id": "PLwvrEaIzdwI",
        "outputId": "8fb2c5de-bbb7-4839-cdf7-372b1af9f9d0"
      },
      "execution_count": null,
      "outputs": [
        {
          "output_type": "stream",
          "name": "stdout",
          "text": [
            "False\n",
            "True\n",
            "False\n"
          ]
        }
      ]
    },
    {
      "cell_type": "code",
      "source": [
        "#Membership operator\n",
        "a=\"Python operators\"\n",
        "b={1:'x',2:'y'}\n",
        "print(\"P\" in a)\n",
        "print(1 in b)\n",
        "print('y' in b)"
      ],
      "metadata": {
        "colab": {
          "base_uri": "https://localhost:8080/"
        },
        "id": "6KTNHgpsznb2",
        "outputId": "f9319cd9-1f1c-4478-85cb-f734355d5943"
      },
      "execution_count": null,
      "outputs": [
        {
          "output_type": "stream",
          "name": "stdout",
          "text": [
            "True\n",
            "True\n",
            "False\n"
          ]
        }
      ]
    },
    {
      "cell_type": "code",
      "source": [
        "#if statement\n",
        "num=5\n",
        "if( num<10):\n",
        "  print(\"Num is smaller than 10\")"
      ],
      "metadata": {
        "colab": {
          "base_uri": "https://localhost:8080/"
        },
        "id": "-QbbR1w1zvI3",
        "outputId": "1b47ac29-81ae-461e-9994-5894633fa716"
      },
      "execution_count": null,
      "outputs": [
        {
          "output_type": "stream",
          "name": "stdout",
          "text": [
            "Num is smaller than 10\n"
          ]
        }
      ]
    },
    {
      "cell_type": "code",
      "source": [
        "#if-else statement\n",
        "num=5\n",
        "if(num>10):\n",
        "  print(\"number is greater than 10\")\n",
        "else:\n",
        "  print(\"number is less than 10\")"
      ],
      "metadata": {
        "colab": {
          "base_uri": "https://localhost:8080/"
        },
        "id": "o0az0JZ1zw1X",
        "outputId": "c640b337-b24b-4aed-c095-5ec09d8c1186"
      },
      "execution_count": null,
      "outputs": [
        {
          "output_type": "stream",
          "name": "stdout",
          "text": [
            "number is less than 10\n"
          ]
        }
      ]
    },
    {
      "cell_type": "code",
      "source": [
        "#elif statements\n",
        "num=10\n",
        "if(num==0):\n",
        "  print(\"Number is Zero\")\n",
        "elif(num>5):\n",
        "  print(\"Number is greater than 5\")\n",
        "else:\n",
        "  print(\"Number is smaller than 5\")"
      ],
      "metadata": {
        "colab": {
          "base_uri": "https://localhost:8080/"
        },
        "id": "R29zUrz7z1LJ",
        "outputId": "b1c937a8-7c05-4768-8ac0-0b5505f119e6"
      },
      "execution_count": null,
      "outputs": [
        {
          "output_type": "stream",
          "name": "stdout",
          "text": [
            "Number is greater than 5\n"
          ]
        }
      ]
    },
    {
      "cell_type": "code",
      "source": [
        "#nested if-else statements\n",
        "num=5\n",
        "if(num>0):\n",
        "  print(\"number is positive\")\n",
        "if(num<10):\n",
        "  print(\"number is less than 10\")"
      ],
      "metadata": {
        "colab": {
          "base_uri": "https://localhost:8080/"
        },
        "id": "3_fOPnbOz6KY",
        "outputId": "53da5e6f-d3e7-4a0d-b439-8ff7a04fcfa7"
      },
      "execution_count": null,
      "outputs": [
        {
          "output_type": "stream",
          "name": "stdout",
          "text": [
            "number is positive\n",
            "number is less than 10\n"
          ]
        }
      ]
    },
    {
      "cell_type": "code",
      "source": [
        "#elif ladder\n",
        "my_marks=90\n",
        "if(my_marks<35):\n",
        "  print(\"Sorry!,You failed the exam\")\n",
        "elif(my_marks>60 and my_marks>100):\n",
        "  print(\"Passed in First class\")\n",
        "else:\n",
        "  print(\"Passed in First class\")"
      ],
      "metadata": {
        "colab": {
          "base_uri": "https://localhost:8080/"
        },
        "id": "7U1UbfkIz74x",
        "outputId": "7c2abe4a-7446-4ad5-b0c9-bdddf5f639b4"
      },
      "execution_count": null,
      "outputs": [
        {
          "output_type": "stream",
          "name": "stdout",
          "text": [
            "Passed in First class\n"
          ]
        }
      ]
    },
    {
      "cell_type": "code",
      "source": [
        "#factorial\n",
        "num = int(input(\"Enter a number: \"))\n",
        "fact = 1\n",
        "for i in range(1, num+1):\n",
        "  fact=fact*i\n",
        "print(fact)"
      ],
      "metadata": {
        "colab": {
          "base_uri": "https://localhost:8080/"
        },
        "id": "WIsRDqmV0UZo",
        "outputId": "4159e481-2b59-4b93-a629-d03f9f9cc12c"
      },
      "execution_count": null,
      "outputs": [
        {
          "output_type": "stream",
          "name": "stdout",
          "text": [
            "Enter a number: 5\n",
            "120\n"
          ]
        }
      ]
    },
    {
      "cell_type": "code",
      "source": [
        "#Fibonacci series\n",
        "num  = int(input(\"Enter a number : \"))\n",
        "n1, n2 = 0, 1\n",
        "sum = 0\n",
        "if (num<=0):\n",
        "  print(\"Please enter a number greater than zero\")\n",
        "else:\n",
        "  for i in range(0, num):\n",
        "    n1 = n2\n",
        "    n2 = sum\n",
        "    sum = n1 + n2\n",
        "    print(sum, end = \" \")"
      ],
      "metadata": {
        "colab": {
          "base_uri": "https://localhost:8080/"
        },
        "id": "zVW-9hM00eMR",
        "outputId": "92bfcd17-694d-4eb4-a015-1d48c3ae9267"
      },
      "execution_count": null,
      "outputs": [
        {
          "output_type": "stream",
          "name": "stdout",
          "text": [
            "Enter a number : 5\n",
            "1 1 2 3 5 "
          ]
        }
      ]
    },
    {
      "cell_type": "code",
      "source": [
        "#Reversing string\n",
        "string = input(\"Enter a string : \")\n",
        "string2 = ''\n",
        "i = len(string)-1\n",
        "while(i>=0):\n",
        "  string2 = string2 + string[i]\n",
        "  i-=1\n",
        "print(\"The reversed string is\",string2)"
      ],
      "metadata": {
        "id": "Rkj8QHRA0iAD",
        "outputId": "727069c9-5c0e-445e-b28a-1a4fa3505558",
        "colab": {
          "base_uri": "https://localhost:8080/"
        }
      },
      "execution_count": null,
      "outputs": [
        {
          "output_type": "stream",
          "name": "stdout",
          "text": [
            "Enter a string : 5\n",
            "The reversed string is 5\n"
          ]
        }
      ]
    },
    {
      "cell_type": "code",
      "execution_count": null,
      "metadata": {
        "colab": {
          "base_uri": "https://localhost:8080/"
        },
        "id": "OPShdwGKq1o_",
        "outputId": "68f64ef0-6d8c-4e92-bd74-5a3984d8ce4e"
      },
      "outputs": [
        {
          "output_type": "stream",
          "name": "stdout",
          "text": [
            "Values inside the function:  [10, 20, 30, [1, 2, 3, 4]]\n",
            "values outside the function:  [10, 20, 30, [1, 2, 3, 4]]\n"
          ]
        }
      ],
      "source": [
        "#passed by value\n",
        "#function definition is here\n",
        "def changeme(mylist):\n",
        "  \"This changes a passed list into this fucntion\"\n",
        "  mylist.append([1,2,3,4]);\n",
        "  print(\"Values inside the function: \",mylist)\n",
        "  return\n",
        "#now you can call changeme function\n",
        "mylist=[10,20,30];\n",
        "changeme(mylist);\n",
        "print(\"values outside the function: \",mylist)"
      ]
    },
    {
      "cell_type": "code",
      "source": [
        "#passed by reference\n",
        "#function definition is here\n",
        "def changeme(mylist):\n",
        "  \"This changes a passed list into this function\"\n",
        "  mylist=[1,2,3,4]; #This would assign new reference in mylist\n",
        "  print(\"Values inside the function: \",mylist)\n",
        "  return\n",
        "#now you can call changeme function\n",
        "mylist=[10,20,30];\n",
        "changeme(mylist);\n",
        "print(\"Values outside the function: \",mylist)"
      ],
      "metadata": {
        "colab": {
          "base_uri": "https://localhost:8080/"
        },
        "id": "IqCFOFMyslZO",
        "outputId": "18d98459-6f3c-498a-9021-9475c56d016f"
      },
      "execution_count": null,
      "outputs": [
        {
          "output_type": "stream",
          "name": "stdout",
          "text": [
            "Values inside the function:  [1, 2, 3, 4]\n",
            "Values outside the function:  [10, 20, 30]\n"
          ]
        }
      ]
    },
    {
      "cell_type": "code",
      "source": [
        "#keyword arguments\n",
        "#function definition is here\n",
        "def printme(str):\n",
        "  \"This prints a passed string into this function\"\n",
        "  print(str)\n",
        "  return;\n",
        "#Now you can call printme function\n",
        "printme(str=\"My string\")"
      ],
      "metadata": {
        "colab": {
          "base_uri": "https://localhost:8080/"
        },
        "id": "NmSO7i1Psp_9",
        "outputId": "a651727e-e4d7-4d72-aed7-6db33a2c7bc1"
      },
      "execution_count": null,
      "outputs": [
        {
          "output_type": "stream",
          "name": "stdout",
          "text": [
            "My string\n"
          ]
        }
      ]
    },
    {
      "cell_type": "code",
      "source": [
        "def printinfo(name,age):\n",
        "  \"This prints a passed info into this function\"\n",
        "  print(\"Name: \",name)\n",
        "  print(\"Age: \",age)\n",
        "  return;\n",
        "printinfo(age=25,name=\"sam\")"
      ],
      "metadata": {
        "colab": {
          "base_uri": "https://localhost:8080/"
        },
        "id": "lcVlWv66suvU",
        "outputId": "5b5a52cc-0a49-4fe5-e80a-64311ef65929"
      },
      "execution_count": null,
      "outputs": [
        {
          "output_type": "stream",
          "name": "stdout",
          "text": [
            "Name:  sam\n",
            "Age:  25\n"
          ]
        }
      ]
    },
    {
      "cell_type": "code",
      "source": [
        "#default arguments\n",
        "def printinfo(name, age=35):\n",
        "  \"This prints a passed info into this function\"\n",
        "  print(\"Name: \",name)\n",
        "  print(\"Age\",age)\n",
        "  return;\n",
        "printinfo(age=25,name=\"sam\")\n",
        "printinfo(name=\"sam\")"
      ],
      "metadata": {
        "colab": {
          "base_uri": "https://localhost:8080/"
        },
        "id": "qdSOLHwhs4KS",
        "outputId": "94c7272b-e3d9-4c2a-aab6-fc8f77826c3b"
      },
      "execution_count": null,
      "outputs": [
        {
          "output_type": "stream",
          "name": "stdout",
          "text": [
            "Name:  sam\n",
            "Age 25\n",
            "Name:  sam\n",
            "Age 35\n"
          ]
        }
      ]
    },
    {
      "cell_type": "code",
      "source": [
        "def printinfo(arg1, *vartuple ):\n",
        "  \"This prints a variable passed arguments\"\n",
        "  print(\"Output is: \")\n",
        "  print(arg1)\n",
        "  for var in vartuple:\n",
        "    print(var)\n",
        "  return;\n",
        "printinfo(10)\n",
        "printinfo(70,60,50)"
      ],
      "metadata": {
        "colab": {
          "base_uri": "https://localhost:8080/"
        },
        "id": "q7a8J3vQtBia",
        "outputId": "d870c937-4d1d-4311-ad26-99b205d9169d"
      },
      "execution_count": null,
      "outputs": [
        {
          "output_type": "stream",
          "name": "stdout",
          "text": [
            "Output is: \n",
            "10\n",
            "Output is: \n",
            "70\n",
            "60\n",
            "50\n"
          ]
        }
      ]
    },
    {
      "cell_type": "code",
      "source": [
        "#scope of variables\n",
        "total=0;#The global variable\n",
        "def sum(arg1,arg2):\n",
        "  total=arg1+arg2;\n",
        "  print(\"Inside the function local total: \",total)\n",
        "  return total;\n",
        "sum(10,20);\n",
        "print(\"Outside the function global total: \",total)"
      ],
      "metadata": {
        "colab": {
          "base_uri": "https://localhost:8080/"
        },
        "id": "TN7ukbohtGN5",
        "outputId": "e3dafd36-7ae1-4b83-ed65-f75b0e1051ab"
      },
      "execution_count": null,
      "outputs": [
        {
          "output_type": "stream",
          "name": "stdout",
          "text": [
            "Inside the function local total:  30\n",
            "Outside the function global total:  0\n"
          ]
        }
      ]
    },
    {
      "cell_type": "code",
      "source": [
        "#prime number program using math functions\n",
        "from math import sqrt\n",
        "max_value=eval(input(\"Display primes up to what value?\"))\n",
        "value=2 #smallest prime number\n",
        "while value<=max_value:\n",
        "  is_prime=True\n",
        "  trial_factor=2\n",
        "  root=sqrt(value)\n",
        "  while trial_factor<=root:\n",
        "    if value%trial_factor==0:\n",
        "      is_prime=False;\n",
        "      break\n",
        "    trial_factor+=1\n",
        "  if is_prime:\n",
        "    print(value, end=' ')\n",
        "  value+=1\n",
        "print()"
      ],
      "metadata": {
        "colab": {
          "base_uri": "https://localhost:8080/"
        },
        "id": "oYhAgalVtKnR",
        "outputId": "b928428d-b094-4c2c-b722-a1f18ed38e04"
      },
      "execution_count": null,
      "outputs": [
        {
          "output_type": "stream",
          "name": "stdout",
          "text": [
            "Display primes up to what value?13\n",
            "2 3 5 7 11 13 \n"
          ]
        }
      ]
    },
    {
      "cell_type": "code",
      "source": [
        "#clock example 1\n",
        "from time import clock\n",
        "print(\"Enter your name: \",end=\"\")\n",
        "start_time=clock()\n",
        "name=input()\n",
        "elapsed=clock()-start_time\n",
        "print(name, \"it took you\",elapsed,\"seconds to respond\")\n"
      ],
      "metadata": {
        "colab": {
          "base_uri": "https://localhost:8080/"
        },
        "id": "09OSaTU1tTQq",
        "outputId": "c48050b2-267f-4837-be13-da54710d947d"
      },
      "execution_count": null,
      "outputs": [
        {
          "output_type": "stream",
          "name": "stderr",
          "text": [
            "/usr/local/lib/python3.7/dist-packages/ipykernel_launcher.py:4: DeprecationWarning: time.clock has been deprecated in Python 3.3 and will be removed from Python 3.8: use time.perf_counter or time.process_time instead\n",
            "  after removing the cwd from sys.path.\n"
          ]
        },
        {
          "output_type": "stream",
          "name": "stdout",
          "text": [
            "Enter your name: sam\n",
            "sam it took you 0.03770499999999988 seconds to respond\n"
          ]
        },
        {
          "output_type": "stream",
          "name": "stderr",
          "text": [
            "/usr/local/lib/python3.7/dist-packages/ipykernel_launcher.py:6: DeprecationWarning: time.clock has been deprecated in Python 3.3 and will be removed from Python 3.8: use time.perf_counter or time.process_time instead\n",
            "  \n"
          ]
        }
      ]
    },
    {
      "cell_type": "code",
      "source": [
        "#clock example 2\n",
        "from time import clock\n",
        "max_value=10000\n",
        "count=0\n",
        "start_time=clock()\n",
        "for value in range(2,max_value+1):\n",
        "  is_prime=True\n",
        "  for trial_factor in range(2,value):\n",
        "    if value%trial_factor==0:\n",
        "      is_prime=False\n",
        "      break\n",
        "  if is_prime:\n",
        "    count+=1\n",
        "print()\n",
        "elapsed=clock()-start_time\n",
        "print(\"Count:\",count, \"Elapsed time:\",elapsed, \"sec\")"
      ],
      "metadata": {
        "colab": {
          "base_uri": "https://localhost:8080/"
        },
        "id": "1kVXon-vtZJZ",
        "outputId": "a25a74ec-e8ba-47e3-ec94-40bd4d1e467d"
      },
      "execution_count": null,
      "outputs": [
        {
          "output_type": "stream",
          "name": "stderr",
          "text": [
            "/usr/local/lib/python3.7/dist-packages/ipykernel_launcher.py:5: DeprecationWarning: time.clock has been deprecated in Python 3.3 and will be removed from Python 3.8: use time.perf_counter or time.process_time instead\n",
            "  \"\"\"\n"
          ]
        },
        {
          "output_type": "stream",
          "name": "stdout",
          "text": [
            "\n",
            "Count: 1229 Elapsed time: 0.7042699999999997 sec\n"
          ]
        },
        {
          "output_type": "stream",
          "name": "stderr",
          "text": [
            "/usr/local/lib/python3.7/dist-packages/ipykernel_launcher.py:15: DeprecationWarning: time.clock has been deprecated in Python 3.3 and will be removed from Python 3.8: use time.perf_counter or time.process_time instead\n",
            "  from ipykernel import kernelapp as app\n"
          ]
        }
      ]
    },
    {
      "cell_type": "code",
      "source": [
        "#simplerandom\n",
        "from random import randrange, seed\n",
        "seed(23)\n",
        "for i in range(0,100):\n",
        "  print(randrange(1,1000),end=' ')\n",
        "print()"
      ],
      "metadata": {
        "colab": {
          "base_uri": "https://localhost:8080/"
        },
        "id": "72uHkcKktiAz",
        "outputId": "b589eadf-d1f9-408c-9e62-b6fe1e8fac5c"
      },
      "execution_count": null,
      "outputs": [
        {
          "output_type": "stream",
          "name": "stdout",
          "text": [
            "948 799 972 297 914 850 86 18 607 315 434 389 543 367 134 744 197 274 456 15 227 636 466 924 26 109 88 728 511 432 21 525 643 752 442 368 790 59 211 802 37 604 378 674 177 636 222 995 753 372 580 779 881 378 992 586 289 677 999 322 587 88 834 486 182 736 495 605 811 459 692 658 168 187 819 183 547 332 690 836 533 201 597 118 85 101 437 40 582 283 963 587 288 841 605 339 112 379 922 296 \n"
          ]
        }
      ]
    },
    {
      "cell_type": "code",
      "source": [
        "#rolling of a die program using random module functions\n",
        "from random import randrange\n",
        "for i in range(0,5):\n",
        "  value=randrange(1,6)\n",
        "  print(\"+----------+\")\n",
        "  if value==1:\n",
        "    print(\"|         |\")\n",
        "    print(\"|    *    |\")\n",
        "    print(\"|         |\")\n",
        "    print(\"+----------+\")\n",
        "  elif value==2:\n",
        "    print(\"| *       |\")\n",
        "    print(\"|         |\")\n",
        "    print(\"|       * |\")\n",
        "    print(\"+----------+\")\n",
        "  elif value==3:\n",
        "    print(\"|       * |\")\n",
        "    print(\"|    *    |\")\n",
        "    print(\"| *       |\")\n",
        "    print(\"+----------+\")\n",
        "  elif value==4:\n",
        "    print(\"| *     * |\")\n",
        "    print(\"|         |\")\n",
        "    print(\"| *     * |\")\n",
        "    print(\"+----------+\")\n",
        "  elif value==5:\n",
        "    print(\"| *     * |\")\n",
        "    print(\"|    *    |\")\n",
        "    print(\"| *     * |\")\n",
        "    print(\"+----------+\")"
      ],
      "metadata": {
        "colab": {
          "base_uri": "https://localhost:8080/"
        },
        "id": "iBEc5UGZtoH1",
        "outputId": "d9098152-e8f3-47c9-ed10-9b63ba9063eb"
      },
      "execution_count": null,
      "outputs": [
        {
          "output_type": "stream",
          "name": "stdout",
          "text": [
            "+----------+\n",
            "| *     * |\n",
            "|    *    |\n",
            "| *     * |\n",
            "+----------+\n",
            "+----------+\n",
            "|       * |\n",
            "|    *    |\n",
            "| *       |\n",
            "+----------+\n",
            "+----------+\n",
            "| *     * |\n",
            "|         |\n",
            "| *     * |\n",
            "+----------+\n",
            "+----------+\n",
            "| *     * |\n",
            "|    *    |\n",
            "| *     * |\n",
            "+----------+\n",
            "+----------+\n",
            "| *       |\n",
            "|         |\n",
            "|       * |\n",
            "+----------+\n"
          ]
        }
      ]
    },
    {
      "cell_type": "code",
      "source": [
        "#gcdwithmain\n",
        "def gcd(m,n):\n",
        "  min=m if m<n else n\n",
        "  largestFactor=1\n",
        "  for i in range(1,min+1):\n",
        "    if m%i==0 and n%i==0:\n",
        "      largestFactor=i\n",
        "  return largestFactor\n",
        "def get_int():\n",
        "  return int(input(\"Please enter an integer: \"))\n",
        "def main():\n",
        "  n1=get_int()\n",
        "  n2=get_int()\n",
        "  print(\"gcd(\",n1,\",\", n2,\")=\",gcd(n1,n2),sep=\" \")\n",
        "main()"
      ],
      "metadata": {
        "colab": {
          "base_uri": "https://localhost:8080/"
        },
        "id": "4vqnit9HtsZy",
        "outputId": "98823cb5-78e9-470e-83e8-b02e2e19b9f0"
      },
      "execution_count": null,
      "outputs": [
        {
          "output_type": "stream",
          "name": "stdout",
          "text": [
            "Please enter an integer: 30\n",
            "Please enter an integer: 30\n",
            "gcd( 30 , 30 )= 30\n"
          ]
        }
      ]
    },
    {
      "cell_type": "code",
      "source": [
        "#parameter passing example\n",
        "def increment(x):\n",
        "  print(\"Beginning execution of increment, x= \",x)\n",
        "  x+=1\n",
        "  print(\"Ending execition of increment, x= \",x)\n",
        "def main():\n",
        "  x=5\n",
        "  print(\"Before increment, x=\",x)\n",
        "  increment(x)\n",
        "  print(\"After increment, x=\",x)\n",
        "main()"
      ],
      "metadata": {
        "colab": {
          "base_uri": "https://localhost:8080/"
        },
        "id": "RBQGIRc9t73U",
        "outputId": "2ff27574-6d31-404c-9e6a-24c9c2b8a56f"
      },
      "execution_count": null,
      "outputs": [
        {
          "output_type": "stream",
          "name": "stdout",
          "text": [
            "Before increment, x= 5\n",
            "Beginning execution of increment, x=  5\n",
            "Ending execition of increment, x=  6\n",
            "After increment, x= 5\n"
          ]
        }
      ]
    },
    {
      "cell_type": "code",
      "source": [
        "#recursion\n",
        "def factorial(n):\n",
        "  if n==0:\n",
        "    return 1\n",
        "  else:\n",
        "    return n*factorial(n-1)\n",
        "def main():\n",
        "  print(\"0!= \", factorial(0))\n",
        "  print(\"1!= \", factorial(1))\n",
        "  print(\"6!= \", factorial(6))\n",
        "  print(\"10!= \", factorial(10))\n",
        "main()"
      ],
      "metadata": {
        "colab": {
          "base_uri": "https://localhost:8080/"
        },
        "id": "PDOSVjxPuAc6",
        "outputId": "e1cffb4a-b71e-48e5-f73d-205a272aff47"
      },
      "execution_count": null,
      "outputs": [
        {
          "output_type": "stream",
          "name": "stdout",
          "text": [
            "0!=  1\n",
            "1!=  1\n",
            "6!=  720\n",
            "10!=  3628800\n"
          ]
        }
      ]
    },
    {
      "cell_type": "code",
      "source": [
        "#arithmeticeval\n",
        "def add(x,y):\n",
        "  return x+y\n",
        "def multiply(x,y):\n",
        "  return x*y\n",
        "def evaluate(f,x,y):\n",
        "  return f(x,y)\n",
        "def main():\n",
        "  print(add(2,3))\n",
        "  print(multiply(2,3))\n",
        "  print(evaluate(add,2,3))\n",
        "  print(evaluate(multiply,2,3))\n",
        "main()"
      ],
      "metadata": {
        "colab": {
          "base_uri": "https://localhost:8080/"
        },
        "id": "i1W7mCBBuEPh",
        "outputId": "9e01a503-eb97-4a37-f03d-950facda6bd0"
      },
      "execution_count": null,
      "outputs": [
        {
          "output_type": "stream",
          "name": "stdout",
          "text": [
            "5\n",
            "6\n",
            "5\n",
            "6\n"
          ]
        }
      ]
    }
  ]
}